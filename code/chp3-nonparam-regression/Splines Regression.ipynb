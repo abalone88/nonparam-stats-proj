{
 "cells": [
  {
   "cell_type": "markdown",
   "id": "9ab52e2e",
   "metadata": {},
   "source": [
    "# Non-parametric Statistics \n",
    "## Chapter 3.3: Splines\n",
    "### Use of Different Degrees"
   ]
  },
  {
   "cell_type": "code",
   "execution_count": 2,
   "id": "66613570",
   "metadata": {},
   "outputs": [],
   "source": [
    "import pandas as pd\n",
    "import numpy as np\n",
    "import matplotlib as mpl\n",
    "import matplotlib.pyplot as plt\n",
    "import os\n",
    "import sys\n",
    "\n",
    "from sklearn.preprocessing import PolynomialFeatures\n",
    "import statsmodels.api as sm\n",
    "import statsmodels.formula.api as smf\n",
    "from patsy import dmatrix\n",
    "\n",
    "%matplotlib inline"
   ]
  },
  {
   "cell_type": "code",
   "execution_count": 3,
   "id": "7ffdc28c",
   "metadata": {},
   "outputs": [
    {
     "data": {
      "text/plain": [
       "'/Users/adam/Desktop/Edinburgh/y4/MP/nonparam-stats-proj/plots/chap3/splines'"
      ]
     },
     "execution_count": 3,
     "metadata": {},
     "output_type": "execute_result"
    }
   ],
   "source": [
    "# this code should work for anyone who cloned the project via github\n",
    "# as it ensures that you have the correct project structure\n",
    "current_dir = os.getcwd()\n",
    "project_root = os.path.abspath(os.path.join(current_dir, \"..\", \"..\"))\n",
    "plots_folder = os.path.join(project_root, \"plots/chap3/splines\")\n",
    "\n",
    "# Please check this is correct path, hopefully it works fine\n",
    "plots_folder"
   ]
  },
  {
   "cell_type": "code",
   "execution_count": 11,
   "id": "534d92c1",
   "metadata": {},
   "outputs": [
    {
     "data": {
      "image/png": "[encoded data removed]",
      "text/plain": [
       "<Figure size 576x432 with 1 Axes>"
      ]
     },
     "metadata": {
      "needs_background": "light"
     },
     "output_type": "display_data"
    }
   ],
   "source": [
    "# generate data\n",
    "x = np.linspace(-5, 10, 300)\n",
    "data = x + 3*x**2 - 1/3*x**3 + 5*np.cos(x) - 5*np.sin(x) + 3 + np.random.normal(0, 20, size = 300)\n",
    "true = x + 3*x**2 - 1/3*x**3 + 5*np.cos(x) - 5*np.sin(x) + 3\n",
    "\n",
    "plt.figure(figsize=(8, 6))\n",
    "plt.plot(x, true, label=\"true\")\n",
    "plt.scatter(x, data, label=\"raw\", c=\"black\", s=10)\n",
    "plt.xlabel(\"x\")\n",
    "plt.ylabel(\"y\")\n",
    "plt.legend(loc=\"upper right\")\n",
    "plt.show()"
   ]
  },
  {
   "cell_type": "code",
   "execution_count": 12,
   "id": "23f35337",
   "metadata": {},
   "outputs": [
    {
     "data": {
      "text/html": [
       "<div>\n",
       "<style scoped>\n",
       "    .dataframe tbody tr th:only-of-type {\n",
       "        vertical-align: middle;\n",
       "    }\n",
       "\n",
       "    .dataframe tbody tr th {\n",
       "        vertical-align: top;\n",
       "    }\n",
       "\n",
       "    .dataframe thead th {\n",
       "        text-align: right;\n",
       "    }\n",
       "</style>\n",
       "<table border=\"1\" class=\"dataframe\">\n",
       "  <thead>\n",
       "    <tr style=\"text-align: right;\">\n",
       "      <th></th>\n",
       "      <th>Intercept</th>\n",
       "      <th>bs(x, knots=(0, 5), degree=1, include_intercept=False)[0]</th>\n",
       "      <th>bs(x, knots=(0, 5), degree=1, include_intercept=False)[1]</th>\n",
       "      <th>bs(x, knots=(0, 5), degree=1, include_intercept=False)[2]</th>\n",
       "    </tr>\n",
       "  </thead>\n",
       "  <tbody>\n",
       "    <tr>\n",
       "      <th>0</th>\n",
       "      <td>1.0</td>\n",
       "      <td>0.000000</td>\n",
       "      <td>0.000000</td>\n",
       "      <td>0.000000</td>\n",
       "    </tr>\n",
       "    <tr>\n",
       "      <th>1</th>\n",
       "      <td>1.0</td>\n",
       "      <td>0.010033</td>\n",
       "      <td>0.000000</td>\n",
       "      <td>0.000000</td>\n",
       "    </tr>\n",
       "    <tr>\n",
       "      <th>2</th>\n",
       "      <td>1.0</td>\n",
       "      <td>0.020067</td>\n",
       "      <td>0.000000</td>\n",
       "      <td>0.000000</td>\n",
       "    </tr>\n",
       "    <tr>\n",
       "      <th>3</th>\n",
       "      <td>1.0</td>\n",
       "      <td>0.030100</td>\n",
       "      <td>0.000000</td>\n",
       "      <td>0.000000</td>\n",
       "    </tr>\n",
       "    <tr>\n",
       "      <th>4</th>\n",
       "      <td>1.0</td>\n",
       "      <td>0.040134</td>\n",
       "      <td>0.000000</td>\n",
       "      <td>0.000000</td>\n",
       "    </tr>\n",
       "    <tr>\n",
       "      <th>...</th>\n",
       "      <td>...</td>\n",
       "      <td>...</td>\n",
       "      <td>...</td>\n",
       "      <td>...</td>\n",
       "    </tr>\n",
       "    <tr>\n",
       "      <th>295</th>\n",
       "      <td>1.0</td>\n",
       "      <td>0.000000</td>\n",
       "      <td>0.040134</td>\n",
       "      <td>0.959866</td>\n",
       "    </tr>\n",
       "    <tr>\n",
       "      <th>296</th>\n",
       "      <td>1.0</td>\n",
       "      <td>0.000000</td>\n",
       "      <td>0.030100</td>\n",
       "      <td>0.969900</td>\n",
       "    </tr>\n",
       "    <tr>\n",
       "      <th>297</th>\n",
       "      <td>1.0</td>\n",
       "      <td>0.000000</td>\n",
       "      <td>0.020067</td>\n",
       "      <td>0.979933</td>\n",
       "    </tr>\n",
       "    <tr>\n",
       "      <th>298</th>\n",
       "      <td>1.0</td>\n",
       "      <td>0.000000</td>\n",
       "      <td>0.010033</td>\n",
       "      <td>0.989967</td>\n",
       "    </tr>\n",
       "    <tr>\n",
       "      <th>299</th>\n",
       "      <td>1.0</td>\n",
       "      <td>0.000000</td>\n",
       "      <td>0.000000</td>\n",
       "      <td>1.000000</td>\n",
       "    </tr>\n",
       "  </tbody>\n",
       "</table>\n",
       "<p>300 rows × 4 columns</p>\n",
       "</div>"
      ],
      "text/plain": [
       "     Intercept  bs(x, knots=(0, 5), degree=1, include_intercept=False)[0]  \\\n",
       "0          1.0                                           0.000000           \n",
       "1          1.0                                           0.010033           \n",
       "2          1.0                                           0.020067           \n",
       "3          1.0                                           0.030100           \n",
       "4          1.0                                           0.040134           \n",
       "..         ...                                                ...           \n",
       "295        1.0                                           0.000000           \n",
       "296        1.0                                           0.000000           \n",
       "297        1.0                                           0.000000           \n",
       "298        1.0                                           0.000000           \n",
       "299        1.0                                           0.000000           \n",
       "\n",
       "     bs(x, knots=(0, 5), degree=1, include_intercept=False)[1]  \\\n",
       "0                                             0.000000           \n",
       "1                                             0.000000           \n",
       "2                                             0.000000           \n",
       "3                                             0.000000           \n",
       "4                                             0.000000           \n",
       "..                                                 ...           \n",
       "295                                           0.040134           \n",
       "296                                           0.030100           \n",
       "297                                           0.020067           \n",
       "298                                           0.010033           \n",
       "299                                           0.000000           \n",
       "\n",
       "     bs(x, knots=(0, 5), degree=1, include_intercept=False)[2]  \n",
       "0                                             0.000000          \n",
       "1                                             0.000000          \n",
       "2                                             0.000000          \n",
       "3                                             0.000000          \n",
       "4                                             0.000000          \n",
       "..                                                 ...          \n",
       "295                                           0.959866          \n",
       "296                                           0.969900          \n",
       "297                                           0.979933          \n",
       "298                                           0.989967          \n",
       "299                                           1.000000          \n",
       "\n",
       "[300 rows x 4 columns]"
      ]
     },
     "execution_count": 12,
     "metadata": {},
     "output_type": "execute_result"
    }
   ],
   "source": [
    "transformed_x = dmatrix(\"bs(x, knots=(0,5), degree=3, include_intercept=False)\",\n",
    "                        {\"x\": x}, return_type='dataframe')\n",
    "transformed_x2 = dmatrix(\"bs(x, knots=(0,5), degree=1, include_intercept=False)\",\n",
    "                        {\"x\": x}, return_type='dataframe')\n",
    "transformed_x\n",
    "transformed_x2"
   ]
  },
  {
   "cell_type": "code",
   "execution_count": 13,
   "id": "d9f925b0",
   "metadata": {},
   "outputs": [],
   "source": [
    "fit = sm.GLM(data, transformed_x).fit()\n",
    "fit2 = sm.GLM(data, transformed_x2).fit()"
   ]
  },
  {
   "cell_type": "code",
   "execution_count": 14,
   "id": "b3717113",
   "metadata": {},
   "outputs": [
    {
     "data": {
      "text/plain": [
       "Intercept                                                    76.121600\n",
       "bs(x, knots=(0, 5), degree=1, include_intercept=False)[0]   -84.732661\n",
       "bs(x, knots=(0, 5), degree=1, include_intercept=False)[1]   -24.945505\n",
       "bs(x, knots=(0, 5), degree=1, include_intercept=False)[2]   -77.746744\n",
       "dtype: float64"
      ]
     },
     "execution_count": 14,
     "metadata": {},
     "output_type": "execute_result"
    }
   ],
   "source": [
    "fit.params\n",
    "fit2.params"
   ]
  },
  {
   "cell_type": "code",
   "execution_count": 15,
   "id": "2ccd0e43",
   "metadata": {},
   "outputs": [
    {
     "data": {
      "text/plain": [
       "0      76.121600\n",
       "1      75.271440\n",
       "2      74.421279\n",
       "3      73.571119\n",
       "4      72.720958\n",
       "         ...    \n",
       "295     0.493970\n",
       "296    -0.035809\n",
       "297    -0.565587\n",
       "298    -1.095365\n",
       "299    -1.625144\n",
       "Length: 300, dtype: float64"
      ]
     },
     "execution_count": 15,
     "metadata": {},
     "output_type": "execute_result"
    }
   ],
   "source": [
    "pred = fit.predict(transformed_x)\n",
    "pred2= fit2.predict(transformed_x2)\n",
    "pred\n",
    "pred2"
   ]
  },
  {
   "cell_type": "code",
   "execution_count": 16,
   "id": "b68cba63",
   "metadata": {},
   "outputs": [
    {
     "data": {
      "text/plain": [
       "<Figure size 432x288 with 0 Axes>"
      ]
     },
     "metadata": {},
     "output_type": "display_data"
    },
    {
     "data": {
      "image/png": "[encoded data removed]",
      "text/plain": [
       "<Figure size 1008x360 with 2 Axes>"
      ]
     },
     "metadata": {
      "needs_background": "light"
     },
     "output_type": "display_data"
    }
   ],
   "source": [
    "plt.figure()\n",
    "fig, axs = plt.subplots(1, 2, figsize=(14, 5))\n",
    "\n",
    "axs[0].plot(x, true, label=\"True\", c='blue')\n",
    "axs[0].scatter(x, data, label=\"raw\", c='black', s=3)\n",
    "axs[0].plot(x, pred, label=\"Cubic Splines\", c='#47ff47')\n",
    "axs[0].axvline(x=0, color='r', linestyle='--')\n",
    "axs[0].axvline(x=5, color='r', linestyle='--')\n",
    "axs[0].set_xlabel(\"x\")\n",
    "axs[0].set_ylabel(\"y\")\n",
    "axs[0].legend(loc=\"upper right\")\n",
    "\n",
    "\n",
    "axs[1].plot(x, true, label=\"True\", c='blue')\n",
    "axs[1].scatter(x, data, label=\"raw\", c=\"black\", s=3)\n",
    "axs[1].plot(x, pred2, label=\"Linear Splines\", c='#47ff47')\n",
    "axs[1].axvline(x=0, color='r', linestyle='--')\n",
    "axs[1].axvline(x=5, color='r', linestyle='--')\n",
    "axs[1].set_xlabel(\"x\")\n",
    "axs[1].set_ylabel(\"y\")\n",
    "axs[1].legend(loc=\"upper right\")\n",
    "plt.savefig(os.path.join(plots_folder, f\"example-splines.png\"))\n",
    "\n",
    "plt.show()"
   ]
  },
  {
   "cell_type": "code",
   "execution_count": null,
   "id": "bbed9475",
   "metadata": {},
   "outputs": [],
   "source": []
  }
 ],
 "metadata": {
  "kernelspec": {
   "display_name": "Python 3",
   "language": "python",
   "name": "python3"
  },
  "language_info": {
   "codemirror_mode": {
    "name": "ipython",
    "version": 3
   },
   "file_extension": ".py",
   "mimetype": "text/x-python",
   "name": "python",
   "nbconvert_exporter": "python",
   "pygments_lexer": "ipython3",
   "version": "3.8.8"
  }
 },
 "nbformat": 4,
 "nbformat_minor": 5
}
